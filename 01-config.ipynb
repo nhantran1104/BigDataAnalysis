{
 "cells": [
  {
   "cell_type": "code",
   "execution_count": 0,
   "metadata": {
    "application/vnd.databricks.v1+cell": {
     "cellMetadata": {
      "byteLimit": 2048000,
      "rowLimit": 10000
     },
     "inputWidgets": {},
     "nuid": "d1a4be35-b895-4af1-ba1e-2f90fb8352f6",
     "showTitle": false,
     "tableResultSettingsMap": {},
     "title": ""
    }
   },
   "outputs": [],
   "source": [
    "class Config:\n",
    "    def __init__(self):\n",
    "        self.base_data_path = spark.sql(\"DESCRIBE EXTERNAL LOCATION `data_zone`\").select(\"url\").collect()[0][0]\n",
    "        # self.base_dir_checkpoint = spark.sql(\"describe external location `checkpoint`\").select(\"url\").collect()[0][0]\n",
    "        self.db_name = \"ecommerce_db\"\n",
    "        self.maxFilesPerTrigger = 1000"
   ]
  }
 ],
 "metadata": {
  "application/vnd.databricks.v1+notebook": {
   "computePreferences": null,
   "dashboards": [],
   "environmentMetadata": {
    "base_environment": "",
    "environment_version": "2"
   },
   "inputWidgetPreferences": null,
   "language": "python",
   "notebookMetadata": {
    "pythonIndentUnit": 4
   },
   "notebookName": "01-config",
   "widgets": {}
  },
  "language_info": {
   "name": "python"
  }
 },
 "nbformat": 4,
 "nbformat_minor": 0
}
