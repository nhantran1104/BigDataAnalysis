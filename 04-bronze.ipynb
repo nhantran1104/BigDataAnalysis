{
 "cells": [
  {
   "cell_type": "code",
   "execution_count": 0,
   "metadata": {
    "application/vnd.databricks.v1+cell": {
     "cellMetadata": {},
     "inputWidgets": {},
     "nuid": "9f6434cb-756e-468a-91d4-8b4d24778797",
     "showTitle": false,
     "tableResultSettingsMap": {},
     "title": ""
    }
   },
   "outputs": [],
   "source": [
    "%run ./01-config"
   ]
  },
  {
   "cell_type": "code",
   "execution_count": 0,
   "metadata": {
    "application/vnd.databricks.v1+cell": {
     "cellMetadata": {},
     "inputWidgets": {},
     "nuid": "7754e217-8eb0-43ba-a1c8-25171d76c6dd",
     "showTitle": false,
     "tableResultSettingsMap": {},
     "title": ""
    }
   },
   "outputs": [],
   "source": [
    "class Bronze():\n",
    "    def __init__(self, env):\n",
    "        self.Conf = Config()\n",
    "        self.landing_zone = self.Conf.base_dir_data\n",
    "        # self.checkpoint_base = self.Conf.base_dir_checkpoint + \"/checkpoints\"\n",
    "        self.catalog = env\n",
    "        self.db_name = self.Conf.db_name\n",
    "        spark.sql(f\"USE {self.catalog}.{self.db_name}\")\n",
    "\n",
    "     def load_product(self):\n",
    "        schema = \"product_id string, product_category_name string, product_name_length tinyint, product_description_length int, product_photos_qty int, product_weight_g tinyint, product_length_cm int, product_height_cm tinyint, product_width_cm tinyint\"\n",
    "\n",
    "        df = (spark.read\n",
    "                .format(\"csv\")\n",
    "                .schema(schema)\n",
    "                .option(\"header\", \"true\")\n",
    "                .load(self.landing_zone + \"/olist_products_dataset.csv\"))\n",
    "\n",
    "        full_table_name = f\"{self.catalog}.{self.db_name}.product\"\n",
    "\n",
    "        df.write \\\n",
    "        .format(\"delta\") \\\n",
    "        .mode(\"overwrite\") \\\n",
    "        .option(\"overwriteSchema\", \"true\") \\\n",
    "        .saveAsTable(full_table_name)\n",
    "\n",
    "        print(\"Batch load to product completed.\")\n",
    "\n",
    "bz = Bronze(\"dev\")\n",
    "bz.load_product()"
   ]
  }
 ],
 "metadata": {
  "application/vnd.databricks.v1+notebook": {
   "computePreferences": null,
   "dashboards": [],
   "environmentMetadata": {
    "base_environment": "",
    "environment_version": "2"
   },
   "inputWidgetPreferences": null,
   "language": "python",
   "notebookMetadata": {
    "pythonIndentUnit": 4
   },
   "notebookName": "04-bronze",
   "widgets": {}
  },
  "language_info": {
   "name": "python"
  }
 },
 "nbformat": 4,
 "nbformat_minor": 0
}
