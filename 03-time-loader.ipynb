{
 "cells": [
  {
   "cell_type": "code",
   "execution_count": 0,
   "metadata": {
    "application/vnd.databricks.v1+cell": {
     "cellMetadata": {
      "byteLimit": 2048000,
      "rowLimit": 10000
     },
     "inputWidgets": {},
     "nuid": "8859d470-4d27-4d14-a7b1-814f15681faa",
     "showTitle": false,
     "tableResultSettingsMap": {},
     "title": ""
    }
   },
   "outputs": [],
   "source": [
    "%run ./01-config"
   ]
  },
  {
   "cell_type": "code",
   "execution_count": 0,
   "metadata": {
    "application/vnd.databricks.v1+cell": {
     "cellMetadata": {
      "byteLimit": 2048000,
      "rowLimit": 10000
     },
     "inputWidgets": {},
     "nuid": "84cc8817-1edc-4fc6-a196-68d78f953cc7",
     "showTitle": false,
     "tableResultSettingsMap": {},
     "title": ""
    }
   },
   "outputs": [],
   "source": [
    "class HistoryLoader():\n",
    "    def __init__(self, env):\n",
    "        Conf = Config()\n",
    "        self.landing_zone = Conf.base_data_path + \"/raw\"\n",
    "        self.catalog = env\n",
    "        self.db_name = 'ecommerce_db_bz'\n",
    "\n",
    "    def load_date_lookup(self):        \n",
    "        print(f\"Đang nạp bảng date_lookup_bz...\", end='')    \n",
    "        from pyspark.sql.types import IntegerType, ShortType, ByteType\n",
    "        from pyspark.sql.functions import col, to_timestamp\n",
    "        csv_path = self.landing_zone + \"/date.csv\"\n",
    "        df = spark.read.option(\"header\", \"true\").csv(csv_path)\n",
    "        df_processed = df.select(\n",
    "            col(\"date_key\").cast(IntegerType()),\n",
    "            to_timestamp(col(\"full_date\"), \"dd-MM-yy HH:mm\"),\n",
    "            col(\"day_of_week\").cast(ByteType()),\n",
    "            col(\"day_num_in_month\").cast(ByteType()),\n",
    "            col(\"day_num_overall\").cast(ShortType()),\n",
    "            col(\"day_name\"),\n",
    "            col(\"day_abbrev\"),\n",
    "            col(\"weekday_flag\"),\n",
    "            col(\"week_num_in_year\").cast(ByteType()),\n",
    "            col(\"week_num_overall\").cast(ShortType()),\n",
    "            to_timestamp(col(\"week_begin_date\"), \"dd-MM-yy HH:mm\"),\n",
    "            col(\"week_begin_date_key\").cast(IntegerType()),\n",
    "            col(\"month\").cast(ByteType()),\n",
    "            col(\"month_num_overall\").cast(ShortType()),\n",
    "            col(\"month_name\"),\n",
    "            col(\"month_abbrev\"),\n",
    "            col(\"quarter\").cast(ByteType()),\n",
    "            col(\"year\").cast(ShortType()),\n",
    "            col(\"yearmo\").cast(IntegerType()),\n",
    "            col(\"fiscal_month\").cast(ByteType()),\n",
    "            col(\"fiscal_quarter\").cast(ByteType()),\n",
    "            col(\"fiscal_year\").cast(ShortType()),\n",
    "            col(\"last_day_in_month_flag\"),\n",
    "            to_timestamp(col(\"same_day_year_ago_date\"), \"dd-MM-yy HH:mm\")\n",
    "        )\n",
    "        table_name = f\"{self.catalog}.{self.db_name}.date_lookup_bz\"\n",
    "        df_processed.write.mode(\"overwrite\").insertInto(table_name)\n",
    "        \n",
    "    def load_history(self):\n",
    "        import time\n",
    "        start = int(time.time())\n",
    "        print(f\"\\nTiến hành nạp dữ liệu cũ ...\")\n",
    "        self.load_date_lookup()\n",
    "        print(f\"Dữ liệu cũ được nạp thành công trong {int(time.time()) - start} giây\")"
   ]
  },
  {
   "cell_type": "code",
   "execution_count": 0,
   "metadata": {
    "application/vnd.databricks.v1+cell": {
     "cellMetadata": {},
     "inputWidgets": {},
     "nuid": "8862c90a-9fa0-4948-8350-e853bae46fab",
     "showTitle": false,
     "tableResultSettingsMap": {},
     "title": ""
    }
   },
   "outputs": [],
   "source": [
    "HL = HistoryLoader('dev')\n",
    "HL.load_history()"
   ]
  }
 ],
 "metadata": {
  "application/vnd.databricks.v1+notebook": {
   "computePreferences": null,
   "dashboards": [],
   "environmentMetadata": {
    "base_environment": "",
    "environment_version": "2"
   },
   "inputWidgetPreferences": null,
   "language": "python",
   "notebookMetadata": {
    "mostRecentlyExecutedCommandWithImplicitDF": {
     "commandId": 6588794333186005,
     "dataframes": [
      "_sqldf"
     ]
    },
    "pythonIndentUnit": 4
   },
   "notebookName": "03-time-loader",
   "widgets": {}
  },
  "language_info": {
   "name": "python"
  }
 },
 "nbformat": 4,
 "nbformat_minor": 0
}
