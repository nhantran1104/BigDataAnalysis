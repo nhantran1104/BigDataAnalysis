{
 "cells": [
  {
   "cell_type": "code",
   "execution_count": 0,
   "metadata": {
    "application/vnd.databricks.v1+cell": {
     "cellMetadata": {
      "byteLimit": 2048000,
      "rowLimit": 10000
     },
     "inputWidgets": {},
     "nuid": "c0daf34c-8816-4c83-87e8-33c6dc9cea6a",
     "showTitle": false,
     "tableResultSettingsMap": {},
     "title": ""
    }
   },
   "outputs": [],
   "source": [
    "from pyspark.sql import SparkSession\n",
    "from pyspark.ml.feature import VectorAssembler, StandardScaler\n",
    "from pyspark.ml.clustering import KMeans\n",
    "from pyspark.sql.functions import col, datediff, countDistinct, sum, max, lit"
   ]
  },
  {
   "cell_type": "code",
   "execution_count": 0,
   "metadata": {
    "application/vnd.databricks.v1+cell": {
     "cellMetadata": {
      "byteLimit": 2048000,
      "rowLimit": 10000
     },
     "inputWidgets": {},
     "nuid": "fc065697-760f-4de2-b8c2-8d689822d3f6",
     "showTitle": false,
     "tableResultSettingsMap": {},
     "title": ""
    }
   },
   "outputs": [],
   "source": [
    "spark = SparkSession.builder.appName(\"RFM_Kmeans\").getOrCreate()\n",
    "spark.catalog.setCurrentCatalog(\"dev\")\n",
    "spark.catalog.setCurrentDatabase(\"ecommerce_db_sv\")"
   ]
  },
  {
   "cell_type": "code",
   "execution_count": 0,
   "metadata": {
    "application/vnd.databricks.v1+cell": {
     "cellMetadata": {
      "byteLimit": 2048000,
      "rowLimit": 10000
     },
     "inputWidgets": {},
     "nuid": "7162f423-62c7-4375-acb7-1745b9f7f2f2",
     "showTitle": false,
     "tableResultSettingsMap": {},
     "title": ""
    }
   },
   "outputs": [],
   "source": [
    "df_orders = spark.sql(\"\"\"\n",
    "    SELECT \n",
    "        o.order_id,\n",
    "        c.customer_unique_id,\n",
    "        o.order_purchase_timestamp,\n",
    "        o.order_status,\n",
    "        p.payment_value\n",
    "    FROM orders_sv o\n",
    "    INNER JOIN customer_sv c ON o.customer_id = c.customer_id\n",
    "    INNER JOIN order_payment_sv p ON o.order_id = p.order_id\n",
    "    WHERE o.order_status = 'delivered'\n",
    "\"\"\")\n",
    "df_orders.show(5, truncate=True)"
   ]
  },
  {
   "cell_type": "code",
   "execution_count": 0,
   "metadata": {
    "application/vnd.databricks.v1+cell": {
     "cellMetadata": {
      "byteLimit": 2048000,
      "rowLimit": 10000
     },
     "inputWidgets": {},
     "nuid": "3af4c43b-e660-4aa3-9e11-faf82213532e",
     "showTitle": false,
     "tableResultSettingsMap": {},
     "title": ""
    }
   },
   "outputs": [],
   "source": [
    "max_date = df_orders.agg(max(\"order_purchase_timestamp\")).collect()[0][0]\n",
    "\n",
    "rfm = df_orders.groupBy(\"customer_unique_id\").agg(\n",
    "    datediff(lit(max_date), max(\"order_purchase_timestamp\")).alias(\"Recency\"),\n",
    "    countDistinct(\"order_id\").alias(\"Frequency\"),\n",
    "    sum(\"payment_value\").alias(\"Monetary\")\n",
    ")\n",
    "rfm.show(10)"
   ]
  },
  {
   "cell_type": "code",
   "execution_count": 0,
   "metadata": {
    "application/vnd.databricks.v1+cell": {
     "cellMetadata": {
      "byteLimit": 2048000,
      "rowLimit": 10000
     },
     "inputWidgets": {},
     "nuid": "2922ee1f-9d2f-4ed5-a125-a56da6b8b0d4",
     "showTitle": false,
     "tableResultSettingsMap": {},
     "title": ""
    }
   },
   "outputs": [],
   "source": [
    "# Định dạng Vector\n",
    "assembler = VectorAssembler(\n",
    "    inputCols=[\"Recency\", \"Frequency\", \"Monetary\"],\n",
    "    outputCol=\"rfm_features\"\n",
    ")\n",
    "rfm_vector = assembler.transform(rfm)\n",
    "\n",
    "# Chuẩn hóa với StandardScaler\n",
    "scaler = StandardScaler(inputCol=\"rfm_features\", outputCol=\"scaledFeatures\", withStd=True, withMean=True)\n",
    "scaler_model = scaler.fit(rfm_vector)\n",
    "rfm_scaled = scaler_model.transform(rfm_vector)\n",
    "\n",
    "rfm_scaled.select(\"Recency\", \"Frequency\", \"Monetary\",\"rfm_features\", \"scaledFeatures\").show(5, truncate=False)"
   ]
  },
  {
   "cell_type": "code",
   "execution_count": 0,
   "metadata": {
    "application/vnd.databricks.v1+cell": {
     "cellMetadata": {
      "byteLimit": 2048000,
      "rowLimit": 10000
     },
     "inputWidgets": {},
     "nuid": "c22aac91-9b43-4f62-8bff-f43c66e11ff2",
     "showTitle": false,
     "tableResultSettingsMap": {},
     "title": ""
    }
   },
   "outputs": [],
   "source": [
    "kmeans = KMeans(featuresCol=\"rfm_features\", predictionCol=\"cluster\", k=3, seed=42)\n",
    "model = kmeans.fit(rfm_scaled)\n",
    "rfm_kmeans = model.transform(rfm_scaled)\n",
    "rfm_kmeans.select(\"customer_unique_id\", \"Recency\", \"Frequency\", \"Monetary\", \"rfm_features\", \"cluster\").show(10)"
   ]
  },
  {
   "cell_type": "code",
   "execution_count": 0,
   "metadata": {
    "application/vnd.databricks.v1+cell": {
     "cellMetadata": {
      "byteLimit": 2048000,
      "rowLimit": 10000
     },
     "inputWidgets": {},
     "nuid": "ef5725c1-b4a0-461f-bfdf-80ff0b424768",
     "showTitle": false,
     "tableResultSettingsMap": {},
     "title": ""
    }
   },
   "outputs": [],
   "source": [
    "rfm_kmeans.groupBy(\"cluster\").agg(\n",
    "    {\n",
    "        \"Recency\": \"mean\",\n",
    "        \"Frequency\": \"mean\",\n",
    "        \"Monetary\": \"mean\"}\n",
    ").orderBy(\"cluster\").show()"
   ]
  },
  {
   "cell_type": "markdown",
   "metadata": {
    "application/vnd.databricks.v1+cell": {
     "cellMetadata": {
      "byteLimit": 2048000,
      "rowLimit": 10000
     },
     "inputWidgets": {},
     "nuid": "c1ae04c6-7266-4e99-9107-593e58143236",
     "showTitle": false,
     "tableResultSettingsMap": {},
     "title": ""
    }
   },
   "source": [
    "### Nhận xét:\n",
    "1. **Recency (Thời gian mua hàng gần nhất)**:\n",
    "   - Cụm **0** có Recency thấp nhất (**127.59**), tức là nhóm này có xu hướng mua hàng gần đây hơn so với các cụm khác.\n",
    "   - Cụm **1** có giá trị Recency cao nhất (**386.62**), cho thấy đây là nhóm khách hàng ít quay lại mua hàng trong thời gian gần đây.\n",
    "\n",
    "2. **Monetary (Giá trị chi tiêu trung bình)**:\n",
    "   - Điểm đáng chú ý là cụm **2** có giá trị Monetary rất cao (**1046.45**), cao hơn hẳn so với hai cụm còn lại (**135.26** và **131.74**). Điều này có thể cho thấy nhóm khách hàng này chi tiêu rất mạnh tay khi mua hàng, dù Recency ở mức trung bình.\n",
    "\n",
    "3. **Frequency (Tần suất mua hàng)**:\n",
    "   - Nhìn chung, tất cả các cụm đều có Frequency trung bình gần **1**, nhưng cụm **2** có mức **1.12**, cao hơn một chút so với các cụm khác. Điều này có thể chỉ ra rằng nhóm khách hàng này có xu hướng mua hàng hơn một lần.\n",
    "\n",
    "4. **Tổng kết**:\n",
    "   - **Nhóm khách hàng ổn định (Cụm 0):** Đây có thể là khách hàng trung bình.\n",
    "   - **Nhóm khách hàng có Recency cao (Cụm 1):** Đây là những khách hàng ít quay lại.\n",
    "   - **Nhóm khách hàng chi tiêu cao (Cụm 2 ):** Đây có thể là khách hàng VIP hoặc khách hàng có giá trị cao. \n",
    "\n",
    "### Gợi ý chiến lược:\n",
    "- **Chăm sóc nhóm khách hàng chi tiêu cao (cụm 2)**: Đây có thể là khách hàng VIP hoặc có giá trị cao. Có thể tạo chương trình ưu đãi hoặc dịch vụ riêng để giữ chân nhóm này.\n",
    "- **Tăng tần suất mua hàng**: Vì Frequency vẫn khá thấp, có thể xem xét chiến lược kích cầu mua sắm, chẳng hạn như giảm giá cho lần mua kế tiếp.\n",
    "- **Tìm hiểu nguyên nhân nhóm khách hàng ít quay lại (cụm 1)**: Có thể khảo sát hoặc phân tích lý do họ không mua hàng thường xuyên để có chiến lược cải thiện.\n"
   ]
  }
 ],
 "metadata": {
  "application/vnd.databricks.v1+notebook": {
   "computePreferences": null,
   "dashboards": [],
   "environmentMetadata": {
    "base_environment": "",
    "environment_version": "2"
   },
   "inputWidgetPreferences": null,
   "language": "python",
   "notebookMetadata": {
    "pythonIndentUnit": 4
   },
   "notebookName": "09-kmeans-rfm",
   "widgets": {}
  },
  "language_info": {
   "name": "python"
  }
 },
 "nbformat": 4,
 "nbformat_minor": 0
}
